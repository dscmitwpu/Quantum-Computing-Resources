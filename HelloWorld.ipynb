{
 "cells": [
  {
   "cell_type": "code",
   "execution_count": 20,
   "id": "58f5f181",
   "metadata": {},
   "outputs": [
    {
     "name": "stderr",
     "output_type": "stream",
     "text": [
      "ibmqfactory.load_account:WARNING:2021-06-04 13:39:16,360: Credentials are already in use. The existing account in the session will be replaced.\n"
     ]
    }
   ],
   "source": [
    "import numpy as np\n",
    "# Importing standard Qiskit libraries\n",
    "from qiskit import QuantumCircuit, transpile, Aer, IBMQ, execute\n",
    "from qiskit.tools.jupyter import *\n",
    "from qiskit.visualization import *\n",
    "from ibm_quantum_widgets import *\n",
    "\n",
    "# Loading your IBM Quantum account(s)\n",
    "provider = IBMQ.load_account()"
   ]
  },
  {
   "cell_type": "code",
   "execution_count": 24,
   "id": "75b1e80d",
   "metadata": {},
   "outputs": [],
   "source": [
    "def hello_bye_world(bit):\n",
    "    if bit=='1':\n",
    "        print(\"Hello World\")\n",
    "    elif bit=='0':\n",
    "        print(\"Bye, World\")"
   ]
  },
  {
   "cell_type": "code",
   "execution_count": 10,
   "id": "0cb9055c",
   "metadata": {},
   "outputs": [
    {
     "data": {
      "application/vnd.jupyter.widget-view+json": {
       "model_id": "5941ab1d316044cd91d95e6962d87286",
       "version_major": 2,
       "version_minor": 0
      },
      "text/plain": [
       "CircuitComposer(circuit=<qiskit.circuit.quantumcircuit.QuantumCircuit object at 0x7f71313daac0>)"
      ]
     },
     "metadata": {},
     "output_type": "display_data"
    }
   ],
   "source": [
    "editorEx = CircuitComposer() \n",
    "editorEx"
   ]
  },
  {
   "cell_type": "code",
   "execution_count": 15,
   "id": "c9b4d520",
   "metadata": {},
   "outputs": [
    {
     "data": {
      "image/png": "[encoded data removed]",
      "text/plain": [
       "<Figure size 193.726x144.48 with 1 Axes>"
      ]
     },
     "execution_count": 15,
     "metadata": {},
     "output_type": "execute_result"
    }
   ],
   "source": [
    "qc = editorEx.circuit \n",
    "qc.draw(output='mpl')"
   ]
  },
  {
   "cell_type": "code",
   "execution_count": 39,
   "id": "f0664d35",
   "metadata": {},
   "outputs": [
    {
     "name": "stdout",
     "output_type": "stream",
     "text": [
      "Bye, World\n"
     ]
    }
   ],
   "source": [
    "back = Aer.get_backend('qasm_simulator')\n",
    "result = execute(qc,back,shots=1).result()\n",
    "counts = result.get_counts(qc)\n",
    "for flip in counts:\n",
    "    hello_bye_world(flip)"
   ]
  },
  {
   "cell_type": "code",
   "execution_count": null,
   "id": "c629a294",
   "metadata": {},
   "outputs": [],
   "source": []
  }
 ],
 "metadata": {
  "kernelspec": {
   "display_name": "Python 3",
   "language": "python",
   "name": "python3"
  },
  "language_info": {
   "codemirror_mode": {
    "name": "ipython",
    "version": 3
   },
   "file_extension": ".py",
   "mimetype": "text/x-python",
   "name": "python",
   "nbconvert_exporter": "python",
   "pygments_lexer": "ipython3",
   "version": "3.8.8"
  },
  "widgets": {
   "application/vnd.jupyter.widget-state+json": {
    "state": {
     "076dd680d89a46beb60284eb724283fc": {
      "model_module": "@jupyter-widgets/base",
      "model_module_version": "1.2.0",
      "model_name": "LayoutModel",
      "state": {}
     },
     "0a5a05c76c7a4fcc978ce6232c342d97": {
      "model_module": "@jupyter-widgets/base",
      "model_module_version": "1.2.0",
      "model_name": "LayoutModel",
      "state": {}
     },
     "1f239df8d3534cb59a96c91e962e6ba6": {
      "model_module": "@jupyter-widgets/base",
      "model_module_version": "1.2.0",
      "model_name": "LayoutModel",
      "state": {
       "width": "70px"
      }
     },
     "223be72b42fb4881b82d8457cb9fa47b": {
      "model_module": "@jupyter-widgets/controls",
      "model_module_version": "1.5.0",
      "model_name": "DescriptionStyleModel",
      "state": {
       "description_width": ""
      }
     },
     "28b2ca545cb14f97a2670e123b11206f": {
      "model_module": "@jupyter-widgets/controls",
      "model_module_version": "1.5.0",
      "model_name": "DescriptionStyleModel",
      "state": {
       "description_width": ""
      }
     },
     "2f4d447199244d7ca50f9c15dd77a2ab": {
      "model_module": "@jupyter-widgets/base",
      "model_module_version": "1.2.0",
      "model_name": "LayoutModel",
      "state": {
       "grid_template_areas": "\n                                       \". . . . right \"\n                                        ",
       "grid_template_columns": "20% 20% 20% 20% 20%",
       "width": "100%"
      }
     },
     "32742296d04447b5b3357eb42c6dc6fa": {
      "model_module": "@jupyter-widgets/controls",
      "model_module_version": "1.5.0",
      "model_name": "DescriptionStyleModel",
      "state": {
       "description_width": ""
      }
     },
     "3bde9a460c0f49b580e104fe9662294a": {
      "model_module": "@jupyter-widgets/base",
      "model_module_version": "1.2.0",
      "model_name": "LayoutModel",
      "state": {
       "grid_area": "right",
       "padding": "0px 0px 0px 0px",
       "width": "70px"
      }
     },
     "3c1e22298c5340d1ad6ae1403e0464c0": {
      "model_module": "@jupyter-widgets/controls",
      "model_module_version": "1.5.0",
      "model_name": "HTMLModel",
      "state": {
       "layout": "IPY_MODEL_076dd680d89a46beb60284eb724283fc",
       "style": "IPY_MODEL_223be72b42fb4881b82d8457cb9fa47b",
       "value": "<h5>Message</h5>"
      }
     },
     "3e12618829224154b690e4fca4e0f41c": {
      "model_module": "@jupyter-widgets/base",
      "model_module_version": "1.2.0",
      "model_name": "LayoutModel",
      "state": {
       "margin": "0px 0px 10px 0px"
      }
     },
     "47c07227f8c045158f8456f2e0e8b1d1": {
      "model_module": "@jupyter-widgets/base",
      "model_module_version": "1.2.0",
      "model_name": "LayoutModel",
      "state": {
       "width": "95px"
      }
     },
     "4e0bc790451f4fe5bd125457e5e34f0c": {
      "model_module": "@jupyter-widgets/controls",
      "model_module_version": "1.5.0",
      "model_name": "GridBoxModel",
      "state": {
       "children": [
        "IPY_MODEL_b9a278c92a6c4e2387283eb685b2d81e"
       ],
       "layout": "IPY_MODEL_2f4d447199244d7ca50f9c15dd77a2ab"
      }
     },
     "550ab99a64a942c29eb2de90dbea4e55": {
      "model_module": "@jupyter-widgets/controls",
      "model_module_version": "1.5.0",
      "model_name": "HTMLModel",
      "state": {
       "layout": "IPY_MODEL_a227b01a4f6c43b080db6ae18b98bb2a",
       "style": "IPY_MODEL_28b2ca545cb14f97a2670e123b11206f",
       "value": "<h5>Backend</h5>"
      }
     },
     "5941ab1d316044cd91d95e6962d87286": {
      "model_module": "@quantum/ibm-q-lab-widgets",
      "model_module_version": "^1.0.3",
      "model_name": "CircuitComposerModel",
      "state": {
       "_model_module_version": "^1.0.3",
       "_view_module_version": "^1.0.3",
       "circuit": "\"OPENQASM 2.0;\\ninclude \\\"qelib1.inc\\\";\\n\\nqreg q[1];\\ncreg c[1];\\n\\nh q[0];\\nmeasure q[0] -> c[0];\"",
       "editable": true,
       "layout": "IPY_MODEL_5d24274f3b274f3ea9630c6ec1f009de",
       "qiskit_code_cell_index": -1
      }
     },
     "5ace72af24234b81ab57c7dfd9e1b88e": {
      "model_module": "@jupyter-widgets/controls",
      "model_module_version": "1.5.0",
      "model_name": "DescriptionStyleModel",
      "state": {
       "description_width": ""
      }
     },
     "5d24274f3b274f3ea9630c6ec1f009de": {
      "model_module": "@jupyter-widgets/base",
      "model_module_version": "1.2.0",
      "model_name": "LayoutModel",
      "state": {}
     },
     "69a8fd7fe06641e7aa0fe88edda5fa09": {
      "model_module": "@jupyter-widgets/controls",
      "model_module_version": "1.5.0",
      "model_name": "HTMLModel",
      "state": {
       "layout": "IPY_MODEL_3e12618829224154b690e4fca4e0f41c",
       "style": "IPY_MODEL_5ace72af24234b81ab57c7dfd9e1b88e",
       "value": "<p style='font-family: IBM Plex Sans, Arial, Helvetica, sans-serif; font-size: 20px; font-weight: medium;'>Circuit Properties</p>"
      }
     },
     "6c54d645fd64436380cb5bf1b7a9fbf8": {
      "model_module": "@jupyter-widgets/controls",
      "model_module_version": "1.5.0",
      "model_name": "HTMLModel",
      "state": {
       "layout": "IPY_MODEL_b7a6b577793b414f9b536b39ad220e3e",
       "style": "IPY_MODEL_32742296d04447b5b3357eb42c6dc6fa",
       "value": "<h5>Job ID</h5>"
      }
     },
     "6d183e4fe0ee40d4be92f21834d6b46e": {
      "model_module": "@jupyter-widgets/controls",
      "model_module_version": "1.5.0",
      "model_name": "HTMLModel",
      "state": {
       "layout": "IPY_MODEL_1f239df8d3534cb59a96c91e962e6ba6",
       "style": "IPY_MODEL_9ce59b2a7fd2427cbfda7876e3087f90",
       "value": "<h5>Queue</h5>"
      }
     },
     "82b60134be7041ddba3466b388f3bd6b": {
      "model_module": "@jupyter-widgets/base",
      "model_module_version": "1.2.0",
      "model_name": "LayoutModel",
      "state": {
       "margin": "0px 0px 0px 37px",
       "width": "600px"
      }
     },
     "84f2208c82cf400583e2de6914112f3c": {
      "model_module": "@jupyter-widgets/controls",
      "model_module_version": "1.5.0",
      "model_name": "HTMLModel",
      "state": {
       "layout": "IPY_MODEL_47c07227f8c045158f8456f2e0e8b1d1",
       "style": "IPY_MODEL_d1674331831d4ca48b2b63921fe5b0b9",
       "value": "<h5>Status</h5>"
      }
     },
     "9215794e907d47fb9139d5ccb10c4e89": {
      "model_module": "@jupyter-widgets/base",
      "model_module_version": "1.2.0",
      "model_name": "LayoutModel",
      "state": {}
     },
     "93930b2374994ca3a277eea2902d2dc9": {
      "model_module": "@quantum/ibm-q-lab-widgets",
      "model_module_version": "^1.0.3",
      "model_name": "CircuitComposerModel",
      "state": {
       "_model_module_version": "^1.0.3",
       "_view_module_version": "^1.0.3",
       "circuit": "\"OPENQASM 2.0;\\ninclude \\\"qelib1.inc\\\";\\n\\nqreg q[1];\\ncreg c[1];\\n\\nx q[0];\\nmeasure q[0] -> c[0];\"",
       "editable": true,
       "layout": "IPY_MODEL_0a5a05c76c7a4fcc978ce6232c342d97",
       "qiskit_code_cell_index": 3
      }
     },
     "9ce59b2a7fd2427cbfda7876e3087f90": {
      "model_module": "@jupyter-widgets/controls",
      "model_module_version": "1.5.0",
      "model_name": "DescriptionStyleModel",
      "state": {
       "description_width": ""
      }
     },
     "a227b01a4f6c43b080db6ae18b98bb2a": {
      "model_module": "@jupyter-widgets/base",
      "model_module_version": "1.2.0",
      "model_name": "LayoutModel",
      "state": {
       "width": "145px"
      }
     },
     "ab3f141411d341d29b1ae9b53e1bee08": {
      "model_module": "@jupyter-widgets/controls",
      "model_module_version": "1.5.0",
      "model_name": "ButtonStyleModel",
      "state": {}
     },
     "b4195d566960424baa5974a1680153e6": {
      "model_module": "@quantum/ibm-q-lab-widgets",
      "model_module_version": "^1.0.3",
      "model_name": "CircuitComposerModel",
      "state": {
       "_model_module_version": "^1.0.3",
       "_view_module_version": "^1.0.3",
       "circuit": "\"OPENQASM 2.0;\\ninclude \\\"qelib1.inc\\\";\\n\\nqreg q[1];\\ncreg c[1];\\n\\nh q[0];\\nmeasure q[0] -> c[0];\"",
       "editable": true,
       "layout": "IPY_MODEL_9215794e907d47fb9139d5ccb10c4e89",
       "qiskit_code_cell_index": 3
      }
     },
     "b7a6b577793b414f9b536b39ad220e3e": {
      "model_module": "@jupyter-widgets/base",
      "model_module_version": "1.2.0",
      "model_name": "LayoutModel",
      "state": {
       "width": "190px"
      }
     },
     "b9a278c92a6c4e2387283eb685b2d81e": {
      "model_module": "@jupyter-widgets/controls",
      "model_module_version": "1.5.0",
      "model_name": "ButtonModel",
      "state": {
       "button_style": "primary",
       "description": "Clear",
       "layout": "IPY_MODEL_3bde9a460c0f49b580e104fe9662294a",
       "style": "IPY_MODEL_ab3f141411d341d29b1ae9b53e1bee08"
      }
     },
     "c998d067b13f42af9b61936420d70289": {
      "model_module": "@jupyter-widgets/controls",
      "model_module_version": "1.5.0",
      "model_name": "HBoxModel",
      "state": {
       "children": [
        "IPY_MODEL_6c54d645fd64436380cb5bf1b7a9fbf8",
        "IPY_MODEL_550ab99a64a942c29eb2de90dbea4e55",
        "IPY_MODEL_84f2208c82cf400583e2de6914112f3c",
        "IPY_MODEL_6d183e4fe0ee40d4be92f21834d6b46e",
        "IPY_MODEL_3c1e22298c5340d1ad6ae1403e0464c0"
       ],
       "layout": "IPY_MODEL_82b60134be7041ddba3466b388f3bd6b"
      }
     },
     "d1674331831d4ca48b2b63921fe5b0b9": {
      "model_module": "@jupyter-widgets/controls",
      "model_module_version": "1.5.0",
      "model_name": "DescriptionStyleModel",
      "state": {
       "description_width": ""
      }
     }
    },
    "version_major": 2,
    "version_minor": 0
   }
  }
 },
 "nbformat": 4,
 "nbformat_minor": 5
}
